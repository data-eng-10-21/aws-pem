{
 "cells": [
  {
   "cell_type": "markdown",
   "metadata": {},
   "source": [
    "# Logging In "
   ]
  },
  {
   "cell_type": "markdown",
   "metadata": {},
   "source": [
    "### Introduction"
   ]
  },
  {
   "cell_type": "markdown",
   "metadata": {},
   "source": [
    "In the last section, we walked through our security group which allows our personal computer to access our ec2 via ssh.  As we mentioned, with SSH we need to login through a key stored on our computer  -- which essentially operates as a password.  In this lesson, we'll move through connecting to our ec2 machine via SSH."
   ]
  },
  {
   "cell_type": "markdown",
   "metadata": {},
   "source": [
    "### Review and Setup"
   ]
  },
  {
   "cell_type": "markdown",
   "metadata": {},
   "source": [
    "Before moving on, let's take a look at what Wikipedia says about SSH."
   ]
  },
  {
   "cell_type": "markdown",
   "metadata": {},
   "source": [
    "> SSH uses public-key cryptography to authenticate the remote computer and allow it to authenticate the user, if necessary. There are several ways to use SSH; one is to use automatically generated public-private key pairs to simply encrypt a network connection, and then use password authentication to log on."
   ]
  },
  {
   "cell_type": "markdown",
   "metadata": {},
   "source": [
    "In this section, we'll see that mechanism with `pem` keys."
   ]
  },
  {
   "cell_type": "markdown",
   "metadata": {},
   "source": [
    "With pem keys AWS creates a lock and key.  AWS stores the public key (the lock), and we store the private key (the key).  The private key is our `pem` file, which we saved to our computer."
   ]
  },
  {
   "cell_type": "markdown",
   "metadata": {},
   "source": [
    "Now let's get the `pem` file by going to the Downloads folder, or the location the file was downloaded."
   ]
  },
  {
   "cell_type": "markdown",
   "metadata": {},
   "source": [
    "This `pem` file, just has our password, our private key.  And this is just a long string of text.  Here is the beginning of my pem file."
   ]
  },
  {
   "cell_type": "markdown",
   "metadata": {},
   "source": [
    "<img src=\"./pem-start.png\"/> "
   ]
  },
  {
   "cell_type": "markdown",
   "metadata": {},
   "source": [
    "It's simply a long password."
   ]
  },
  {
   "cell_type": "markdown",
   "metadata": {},
   "source": [
    "### Ready to Sign In "
   ]
  },
  {
   "cell_type": "markdown",
   "metadata": {},
   "source": [
    "Now if we go back to the EC2 dashboard, and then click on the `Instances (Running)` link, we should again see our instance listed.\n",
    "\n",
    "Again click on the instance id."
   ]
  },
  {
   "cell_type": "markdown",
   "metadata": {},
   "source": [
    "<img src=\"./instance-id.png\" width=\"100%\"/> "
   ]
  },
  {
   "cell_type": "markdown",
   "metadata": {},
   "source": [
    "And from there click on `Connect`, which is the third button over at the top right."
   ]
  },
  {
   "cell_type": "markdown",
   "metadata": {},
   "source": [
    "<img src=\"./ec2-connect.png\" width=\"100%\">"
   ]
  },
  {
   "cell_type": "markdown",
   "metadata": {},
   "source": [
    "If we read the instructions that AWS gives us, we can see it's pretty specific with how to proceed."
   ]
  },
  {
   "cell_type": "markdown",
   "metadata": {},
   "source": [
    "<img src=\"./aws-connection.png\" width=\"70%\">"
   ]
  },
  {
   "cell_type": "markdown",
   "metadata": {},
   "source": [
    "1. Move the pem file to a folder\n",
    "\n",
    "The key point is to move the `.pem` file in a place we can access it in the future.  Let's move the file to our `~/.ssh` folder.  \n",
    "\n",
    "> Create it if it does not already exist.\n",
    "\n",
    "Then we can navigate to that directory, and then move the pem file.\n",
    "\n",
    "\n",
    "```terminal\n",
    "cd ~/.ssh\n",
    "mv ~/Downloads/ds-setup.pem .\n",
    "```"
   ]
  },
  {
   "cell_type": "markdown",
   "metadata": {},
   "source": [
    "2. Then from the `~/.ssh` folder, we make sure that our file is not publicly viewable by running `chmod 400 ds-setup.pem`."
   ]
  },
  {
   "cell_type": "markdown",
   "metadata": {},
   "source": [
    "3. Finally, we can connect to our machine.  \n",
    "\n",
    "> The easiest way to do so, is to go to the directions from AWS (see the image above) and copy the line after **Example**, beginning with `ssh -i`.\n",
    "\n",
    "If it worked properly, it will ask if we are sure to connect.  Type `yes`, and then press `enter`."
   ]
  },
  {
   "cell_type": "markdown",
   "metadata": {},
   "source": [
    "> It's best to add a -vvv after the ssh command.  \n",
    "> For example:\n",
    "> `ssh -i \"ds-setup.pem\" ec2-user@ec2-18-206-145-235.compute-1.amazonaws.com -vvv`\n",
    "> This will display a more descriptive error message.  See [here](tecmint.com/enable-debugging-mode-in-ssh/) for more details."
   ]
  },
  {
   "cell_type": "markdown",
   "metadata": {},
   "source": [
    "Take a look at the image above.  You can see that, upon logging in we will see our terminal with our amazon AMI username, `ec2-user` followed by the EC2 ip address we are connecting to, as we see above.  We can use the terminal to manipuate our EC2 machine just like we do with our local machine.\n"
   ]
  },
  {
   "cell_type": "markdown",
   "metadata": {},
   "source": [
    "<img src=\"./logged-in.png\" /> "
   ]
  },
  {
   "cell_type": "markdown",
   "metadata": {},
   "source": [
    "We'll talk about some some software to install in the next lesson.\n",
    "\n",
    "If you successfully, logged in, congrats!  Skip ahead to the summary.  If not, take a look at the trouble-shooting section below.  "
   ]
  },
  {
   "cell_type": "markdown",
   "metadata": {},
   "source": [
    "### Troubleshooting"
   ]
  },
  {
   "cell_type": "markdown",
   "metadata": {},
   "source": [
    "If it did not work properly a couple of things could be occurring."
   ]
  },
  {
   "cell_type": "markdown",
   "metadata": {},
   "source": [
    "\n",
    "\n",
    "* If the connection **timed out**:\n",
    "    * Check the inbound rules \n",
    "    * Do this by scrolling down until you reach security groups, and then click on `launch-wizard-1`, followed by `Inbound`\n",
    "    * Click on `Edit` to then change the ip address.  Use `0.0.0.0/0` to make the EC2 machine accessible from any computer."
   ]
  },
  {
   "cell_type": "markdown",
   "metadata": {},
   "source": [
    "* If the `.pem` file is not found\n",
    "    * Make sure that you are in the same folder as the `.pem` file.\n",
    "    * Wrap the file in quotations (as shown above)"
   ]
  },
  {
   "cell_type": "markdown",
   "metadata": {},
   "source": [
    "* The key was not accessible.\n",
    "    * Make sure you run `chmod 400` followed by the name of the file."
   ]
  },
  {
   "cell_type": "markdown",
   "metadata": {},
   "source": [
    "### Summary"
   ]
  },
  {
   "cell_type": "markdown",
   "metadata": {},
   "source": [
    "In this lesson we finally logged into our EC2 machine.  We did so by generating a private key in a `.pem` file, and then providing that public key as we logged into our EC2 machine.  Once logged in, we have terminal access.  If you would like to log out, just type `exit`."
   ]
  },
  {
   "cell_type": "markdown",
   "metadata": {},
   "source": [
    "### Resources"
   ]
  },
  {
   "cell_type": "markdown",
   "metadata": {},
   "source": [
    "[AWS Article](https://medium.com/@alexjsanchez/python-3-notebooks-on-aws-ec2-in-15-mostly-easy-steps-2ec5e662c6c6)"
   ]
  }
 ],
 "metadata": {
  "kernelspec": {
   "display_name": "Python 3 (ipykernel)",
   "language": "python",
   "name": "python3"
  },
  "language_info": {
   "codemirror_mode": {
    "name": "ipython",
    "version": 3
   },
   "file_extension": ".py",
   "mimetype": "text/x-python",
   "name": "python",
   "nbconvert_exporter": "python",
   "pygments_lexer": "ipython3",
   "version": "3.9.12"
  }
 },
 "nbformat": 4,
 "nbformat_minor": 4
}
